{
 "cells": [
  {
   "cell_type": "code",
   "execution_count": null,
   "id": "46c8dfda-6eac-4ed8-9e37-f06a0c086be3",
   "metadata": {},
   "outputs": [],
   "source": [
    "import torch\n",
    "import clip\n",
    "from PIL import Image\n",
    "from pydantic import BaseModel\n",
    "from fastapi import FastAPI\n",
    "from fastapi.responses import JSONResponse\n",
    "import uvicorn\n",
    "\n",
    "# Load CLIP model and preprocessing once\n",
    "device = \"cuda\" if torch.cuda.is_available() else \"cpu\"\n",
    "model, preprocess = clip.load(\"ViT-B/32\", device=device)\n",
    "\n",
    "def check_image_match(image_path, match_text, false_text=\"a new car\"):\n",
    "    # Load and preprocess image\n",
    "    image = preprocess(Image.open(image_path)).unsqueeze(0).to(device)\n",
    "    \n",
    "    # Tokenize input texts\n",
    "    texts = [match_text, false_text]\n",
    "    text_inputs = clip.tokenize(texts).to(device)\n",
    "\n",
    "    # Compute similarity scores\n",
    "    with torch.no_grad():\n",
    "        logits_per_image, _ = model(image, text_inputs)\n",
    "        probs = logits_per_image.softmax(dim=-1).cpu().numpy()[0]\n",
    "    \n",
    "    return {\n",
    "        \"match text probality \": float(probs[0]) * 100,\n",
    "        \"false text probality \": float(probs[1]) * 100,\n",
    "        \"result\": \"✅ Match\" if probs[0] > probs[1] else \"❌ Mismatch\"\n",
    "    }\n",
    "\n",
    "# Create FastAPI app\n",
    "app = FastAPI()\n",
    "\n",
    "# Define input model\n",
    "class Sinistre(BaseModel):\n",
    "    path: str \n",
    "    objet : str\n",
    "    \n",
    "\n",
    "# Define route\n",
    "@app.post(\"/check\")\n",
    "async def check(req: Sinistre):\n",
    "    result = check_image_match(req.path, Sinistre.objet)\n",
    "    return JSONResponse(content=result)\n",
    "    \n",
    "uvicorn.run(app, host=\"0.0.0.0\", port=8086)"
   ]
  },
  {
   "cell_type": "code",
   "execution_count": null,
   "id": "03d14dc7-87ad-4947-a175-b53072fd80e4",
   "metadata": {},
   "outputs": [],
   "source": []
  }
 ],
 "metadata": {
  "kernelspec": {
   "display_name": "Python 3 (ipykernel)",
   "language": "python",
   "name": "python3"
  },
  "language_info": {
   "codemirror_mode": {
    "name": "ipython",
    "version": 3
   },
   "file_extension": ".py",
   "mimetype": "text/x-python",
   "name": "python",
   "nbconvert_exporter": "python",
   "pygments_lexer": "ipython3",
   "version": "3.10.16"
  }
 },
 "nbformat": 4,
 "nbformat_minor": 5
}
